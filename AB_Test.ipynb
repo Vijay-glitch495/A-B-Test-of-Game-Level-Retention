{
  "cells": [
    {
      "metadata": {
        "dc": {
          "key": "3"
        },
        "deletable": false,
        "editable": false,
        "run_control": {
          "frozen": true
        },
        "tags": [
          "context"
        ],
        "id": "QZ1Rby4JPBTf"
      },
      "cell_type": "markdown",
      "source": [
        "## 1. Video Game A/B Testing\n",
        "<p>Progressing through the levels of a game, the players encounter gates that force them to either wait a non-trivial amount of time or make an in-app purchase to progress.</p>\n",
        "\n",
        "<p>Along with driving the in-app purchases, gates serve the important purpose of giving players an enforced break from playing the game, which results in increasing and prolonging the player's enjoyment.</p>\n",
        "\n",
        "<p>Initially the first gate is placed at level 5, but this project is going to analyze an AB-test where the first gate in the game is moved from level 5 to level 10. This project focuses on the impact of this shift on player retention.</p>"
      ]
    },
    {
      "cell_type": "code",
      "source": [
        "from google.colab import drive\n",
        "drive.mount('/content/drive')"
      ],
      "metadata": {
        "colab": {
          "base_uri": "https://localhost:8080/"
        },
        "id": "4O4HX8DQP7wZ",
        "outputId": "955d1e42-f6d6-429d-d783-cfe0138ad86d"
      },
      "execution_count": 42,
      "outputs": [
        {
          "output_type": "stream",
          "name": "stdout",
          "text": [
            "Drive already mounted at /content/drive; to attempt to forcibly remount, call drive.mount(\"/content/drive\", force_remount=True).\n"
          ]
        }
      ]
    },
    {
      "metadata": {
        "dc": {
          "key": "3"
        },
        "tags": [
          "sample_code"
        ],
        "trusted": true,
        "colab": {
          "base_uri": "https://localhost:8080/",
          "height": 206
        },
        "id": "aFql5U4wPBTk",
        "outputId": "12b8927d-4802-4f09-e862-5094286935f6"
      },
      "cell_type": "code",
      "source": [
        "import pandas as pd\n",
        "\n",
        "df = pd.read_csv('/content/game_app_ab_testing.csv')\n",
        "df.head()"
      ],
      "execution_count": 43,
      "outputs": [
        {
          "output_type": "execute_result",
          "data": {
            "text/plain": [
              "   userid  version  sum_gamerounds  retention_1  retention_7\n",
              "0     116   gate_5               3        False        False\n",
              "1     337   gate_5              38         True        False\n",
              "2     377  gate_10             165         True        False\n",
              "3     483  gate_10               1        False        False\n",
              "4     488  gate_10             179         True         True"
            ],
            "text/html": [
              "\n",
              "  <div id=\"df-1dc87b16-d99e-4a38-819a-b658441bbdb7\">\n",
              "    <div class=\"colab-df-container\">\n",
              "      <div>\n",
              "<style scoped>\n",
              "    .dataframe tbody tr th:only-of-type {\n",
              "        vertical-align: middle;\n",
              "    }\n",
              "\n",
              "    .dataframe tbody tr th {\n",
              "        vertical-align: top;\n",
              "    }\n",
              "\n",
              "    .dataframe thead th {\n",
              "        text-align: right;\n",
              "    }\n",
              "</style>\n",
              "<table border=\"1\" class=\"dataframe\">\n",
              "  <thead>\n",
              "    <tr style=\"text-align: right;\">\n",
              "      <th></th>\n",
              "      <th>userid</th>\n",
              "      <th>version</th>\n",
              "      <th>sum_gamerounds</th>\n",
              "      <th>retention_1</th>\n",
              "      <th>retention_7</th>\n",
              "    </tr>\n",
              "  </thead>\n",
              "  <tbody>\n",
              "    <tr>\n",
              "      <th>0</th>\n",
              "      <td>116</td>\n",
              "      <td>gate_5</td>\n",
              "      <td>3</td>\n",
              "      <td>False</td>\n",
              "      <td>False</td>\n",
              "    </tr>\n",
              "    <tr>\n",
              "      <th>1</th>\n",
              "      <td>337</td>\n",
              "      <td>gate_5</td>\n",
              "      <td>38</td>\n",
              "      <td>True</td>\n",
              "      <td>False</td>\n",
              "    </tr>\n",
              "    <tr>\n",
              "      <th>2</th>\n",
              "      <td>377</td>\n",
              "      <td>gate_10</td>\n",
              "      <td>165</td>\n",
              "      <td>True</td>\n",
              "      <td>False</td>\n",
              "    </tr>\n",
              "    <tr>\n",
              "      <th>3</th>\n",
              "      <td>483</td>\n",
              "      <td>gate_10</td>\n",
              "      <td>1</td>\n",
              "      <td>False</td>\n",
              "      <td>False</td>\n",
              "    </tr>\n",
              "    <tr>\n",
              "      <th>4</th>\n",
              "      <td>488</td>\n",
              "      <td>gate_10</td>\n",
              "      <td>179</td>\n",
              "      <td>True</td>\n",
              "      <td>True</td>\n",
              "    </tr>\n",
              "  </tbody>\n",
              "</table>\n",
              "</div>\n",
              "      <button class=\"colab-df-convert\" onclick=\"convertToInteractive('df-1dc87b16-d99e-4a38-819a-b658441bbdb7')\"\n",
              "              title=\"Convert this dataframe to an interactive table.\"\n",
              "              style=\"display:none;\">\n",
              "        \n",
              "  <svg xmlns=\"http://www.w3.org/2000/svg\" height=\"24px\"viewBox=\"0 0 24 24\"\n",
              "       width=\"24px\">\n",
              "    <path d=\"M0 0h24v24H0V0z\" fill=\"none\"/>\n",
              "    <path d=\"M18.56 5.44l.94 2.06.94-2.06 2.06-.94-2.06-.94-.94-2.06-.94 2.06-2.06.94zm-11 1L8.5 8.5l.94-2.06 2.06-.94-2.06-.94L8.5 2.5l-.94 2.06-2.06.94zm10 10l.94 2.06.94-2.06 2.06-.94-2.06-.94-.94-2.06-.94 2.06-2.06.94z\"/><path d=\"M17.41 7.96l-1.37-1.37c-.4-.4-.92-.59-1.43-.59-.52 0-1.04.2-1.43.59L10.3 9.45l-7.72 7.72c-.78.78-.78 2.05 0 2.83L4 21.41c.39.39.9.59 1.41.59.51 0 1.02-.2 1.41-.59l7.78-7.78 2.81-2.81c.8-.78.8-2.07 0-2.86zM5.41 20L4 18.59l7.72-7.72 1.47 1.35L5.41 20z\"/>\n",
              "  </svg>\n",
              "      </button>\n",
              "      \n",
              "  <style>\n",
              "    .colab-df-container {\n",
              "      display:flex;\n",
              "      flex-wrap:wrap;\n",
              "      gap: 12px;\n",
              "    }\n",
              "\n",
              "    .colab-df-convert {\n",
              "      background-color: #E8F0FE;\n",
              "      border: none;\n",
              "      border-radius: 50%;\n",
              "      cursor: pointer;\n",
              "      display: none;\n",
              "      fill: #1967D2;\n",
              "      height: 32px;\n",
              "      padding: 0 0 0 0;\n",
              "      width: 32px;\n",
              "    }\n",
              "\n",
              "    .colab-df-convert:hover {\n",
              "      background-color: #E2EBFA;\n",
              "      box-shadow: 0px 1px 2px rgba(60, 64, 67, 0.3), 0px 1px 3px 1px rgba(60, 64, 67, 0.15);\n",
              "      fill: #174EA6;\n",
              "    }\n",
              "\n",
              "    [theme=dark] .colab-df-convert {\n",
              "      background-color: #3B4455;\n",
              "      fill: #D2E3FC;\n",
              "    }\n",
              "\n",
              "    [theme=dark] .colab-df-convert:hover {\n",
              "      background-color: #434B5C;\n",
              "      box-shadow: 0px 1px 3px 1px rgba(0, 0, 0, 0.15);\n",
              "      filter: drop-shadow(0px 1px 2px rgba(0, 0, 0, 0.3));\n",
              "      fill: #FFFFFF;\n",
              "    }\n",
              "  </style>\n",
              "\n",
              "      <script>\n",
              "        const buttonEl =\n",
              "          document.querySelector('#df-1dc87b16-d99e-4a38-819a-b658441bbdb7 button.colab-df-convert');\n",
              "        buttonEl.style.display =\n",
              "          google.colab.kernel.accessAllowed ? 'block' : 'none';\n",
              "\n",
              "        async function convertToInteractive(key) {\n",
              "          const element = document.querySelector('#df-1dc87b16-d99e-4a38-819a-b658441bbdb7');\n",
              "          const dataTable =\n",
              "            await google.colab.kernel.invokeFunction('convertToInteractive',\n",
              "                                                     [key], {});\n",
              "          if (!dataTable) return;\n",
              "\n",
              "          const docLinkHtml = 'Like what you see? Visit the ' +\n",
              "            '<a target=\"_blank\" href=https://colab.research.google.com/notebooks/data_table.ipynb>data table notebook</a>'\n",
              "            + ' to learn more about interactive tables.';\n",
              "          element.innerHTML = '';\n",
              "          dataTable['output_type'] = 'display_data';\n",
              "          await google.colab.output.renderOutput(dataTable, element);\n",
              "          const docLink = document.createElement('div');\n",
              "          docLink.innerHTML = docLinkHtml;\n",
              "          element.appendChild(docLink);\n",
              "        }\n",
              "      </script>\n",
              "    </div>\n",
              "  </div>\n",
              "  "
            ]
          },
          "metadata": {},
          "execution_count": 43
        }
      ]
    },
    {
      "cell_type": "code",
      "source": [
        "df[\"userid\"].count()"
      ],
      "metadata": {
        "colab": {
          "base_uri": "https://localhost:8080/"
        },
        "id": "yO5gih69QY5R",
        "outputId": "dd4d9d1d-3e83-4e51-c17e-f5385ef28497"
      },
      "execution_count": 44,
      "outputs": [
        {
          "output_type": "execute_result",
          "data": {
            "text/plain": [
              "90189"
            ]
          },
          "metadata": {},
          "execution_count": 44
        }
      ]
    },
    {
      "metadata": {
        "dc": {
          "key": "10"
        },
        "deletable": false,
        "editable": false,
        "run_control": {
          "frozen": true
        },
        "tags": [
          "context"
        ],
        "id": "_PuM5z9RPBTm"
      },
      "cell_type": "markdown",
      "source": [
        "## 2. The Data\n",
        "<p>Total players = 90,189</p>\n",
        "<p>Variables:</p>\n",
        "<ul>\n",
        "<li><code>userid</code></li>\n",
        "<li><code>version</code> - whether the player was put in the control group of level 5 gate or level 10 gate. \n",
        "<li><code>sum_gamerounds</code> - the number of game rounds played by the player during the first 14 days after installation.</li>\n",
        "<li><code>retention_1</code> - did the player come back and play <strong>1 day</strong> after installing?</li>\n",
        "<li><code>retention_7</code> - did the player come back and play <strong>7 days</strong> after installing?</li>\n",
        "</ul>\n",
        "<p>When a player installed the game, he or she was randomly assigned to either <code>gate_5</code> or <code>gate_10</code>. As a sanity check, let's see if there are roughly the same number of players in each AB group. </p>"
      ]
    },
    {
      "metadata": {
        "dc": {
          "key": "10"
        },
        "tags": [
          "sample_code"
        ],
        "trusted": true,
        "colab": {
          "base_uri": "https://localhost:8080/"
        },
        "id": "OdEZIuY8PBTn",
        "outputId": "f299cfb0-d207-4776-8cd9-5f97679ec4db"
      },
      "cell_type": "code",
      "source": [
        "df.groupby('version')['userid'].count()"
      ],
      "execution_count": 45,
      "outputs": [
        {
          "output_type": "execute_result",
          "data": {
            "text/plain": [
              "version\n",
              "gate_10    45489\n",
              "gate_5     44700\n",
              "Name: userid, dtype: int64"
            ]
          },
          "metadata": {},
          "execution_count": 45
        }
      ]
    },
    {
      "metadata": {
        "dc": {
          "key": "17"
        },
        "deletable": false,
        "editable": false,
        "run_control": {
          "frozen": true
        },
        "tags": [
          "context"
        ],
        "id": "s1Af7J67PBTn"
      },
      "cell_type": "markdown",
      "source": [
        "## 3. Distribution of game rounds\n",
        "<p>The number of players in each group is roughly the same.</p>\n",
        "<p>To look at player retention,we plot the distribution of the number of game rounds players played during their first week playing the game.</p>"
      ]
    },
    {
      "metadata": {
        "dc": {
          "key": "17"
        },
        "tags": [
          "sample_code"
        ],
        "trusted": true,
        "colab": {
          "base_uri": "https://localhost:8080/",
          "height": 297
        },
        "id": "I_qDtGkIPBTn",
        "outputId": "0de26a39-8e30-4973-9319-dbce9d47a2b4"
      },
      "cell_type": "code",
      "source": [
        "%matplotlib inline\n",
        "\n",
        "plot_df = df.groupby('sum_gamerounds')['userid'].count()\n",
        "\n",
        "ax = plot_df.head(n=100).plot(x=\"sum_gamerounds\", y=\"userid\", kind=\"hist\", color='red')\n",
        "ax.set_xlabel(\"Game Rounds\")\n",
        "ax.set_ylabel(\"User Count\")"
      ],
      "execution_count": 46,
      "outputs": [
        {
          "output_type": "execute_result",
          "data": {
            "text/plain": [
              "Text(0, 0.5, 'User Count')"
            ]
          },
          "metadata": {},
          "execution_count": 46
        },
        {
          "output_type": "display_data",
          "data": {
            "text/plain": [
              "<Figure size 432x288 with 1 Axes>"
            ],
            "image/png": "[encoded data removed]"
          },
          "metadata": {
            "needs_background": "light"
          }
        }
      ]
    },
    {
      "metadata": {
        "dc": {
          "key": "24"
        },
        "deletable": false,
        "editable": false,
        "run_control": {
          "frozen": true
        },
        "tags": [
          "context"
        ],
        "id": "5j_yRVNJPBTo"
      },
      "cell_type": "markdown",
      "source": [
        "## 4. One Day Retention versus Seven Day Retention\n",
        "<p>The plot above shows that:</p>\n",
        "<ul><li>some players install the game but then never play it (0 game rounds)</li>\n",
        "<li>some players just play a couple of game rounds in their first week</li>\n",
        "<li>and some get hooked to the game in the first week</li></ul>\n",
        "\n",
        "<p>Aim is that players like the game and to get hooked to it.</p>\n",
        "\n",
        "<p>To gauge how fun and engaging a game is <code>1-day retention</code> is calculated, which is the percentage of players that comes back and plays the game <i><b>one day</b></i> after they have installed it. Similarly, <code>7-day retention</code> is the percentage of players that comes back and plays the game <i><b>seven days</b></i> after installation.\n",
        "<p><em>--->The higher the retention, the easier it is to retain players and build a large player base.</em></p>\n"
      ]
    },
    {
      "metadata": {
        "dc": {
          "key": "24"
        },
        "tags": [
          "sample_code"
        ],
        "trusted": true,
        "colab": {
          "base_uri": "https://localhost:8080/"
        },
        "id": "vagbhXHhPBTp",
        "outputId": "0a003cd8-86a3-441a-e5f1-43dac9ae059b"
      },
      "cell_type": "code",
      "source": [
        "one_day = df['retention_1'].sum() / df['retention_1'].count()\n",
        "seven_day = df['retention_7'].sum() / df['retention_7'].count()\n",
        "print('one_day = ',one_day)\n",
        "print('seven_day = ',seven_day)"
      ],
      "execution_count": 47,
      "outputs": [
        {
          "output_type": "stream",
          "name": "stdout",
          "text": [
            "one_day =  0.4452095044850259\n",
            "seven_day =  0.1860648194347426\n"
          ]
        }
      ]
    },
    {
      "metadata": {
        "dc": {
          "key": "31"
        },
        "deletable": false,
        "editable": false,
        "run_control": {
          "frozen": true
        },
        "tags": [
          "context"
        ],
        "id": "7UA3T9DzPBTp"
      },
      "cell_type": "markdown",
      "source": [
        "## 5. One Day retention by A/B-group\n",
        "\n",
        "<p>So, a little less than half of the players come back one day after installing the game. Looking at how ONE DAY retention differs between the two A/B-groups.</p>"
      ]
    },
    {
      "metadata": {
        "dc": {
          "key": "31"
        },
        "tags": [
          "sample_code"
        ],
        "trusted": true,
        "colab": {
          "base_uri": "https://localhost:8080/"
        },
        "id": "TZKIe2MgPBTq",
        "outputId": "d1c9ed63-5067-40e1-c4ff-d3d166c75c85"
      },
      "cell_type": "code",
      "source": [
        "print('Comparing Versions:')\n",
        "print('1. For One Day:')\n",
        "print(df.groupby('version')['retention_1'].sum() / df.groupby('version')['userid'].count())\n",
        "print('')\n",
        "print('2. For Seven Day:')\n",
        "print(df.groupby('version')['retention_7'].sum() / df.groupby('version')['userid'].count())"
      ],
      "execution_count": 48,
      "outputs": [
        {
          "output_type": "stream",
          "name": "stdout",
          "text": [
            "Comparing Versions:\n",
            "1. For One Day:\n",
            "version\n",
            "gate_10    0.442283\n",
            "gate_5     0.448188\n",
            "dtype: float64\n",
            "\n",
            "2. For Seven Day:\n",
            "version\n",
            "gate_10    0.182000\n",
            "gate_5     0.190201\n",
            "dtype: float64\n"
          ]
        }
      ]
    },
    {
      "metadata": {
        "dc": {
          "key": "38"
        },
        "deletable": false,
        "editable": false,
        "run_control": {
          "frozen": true
        },
        "tags": [
          "context"
        ],
        "id": "J8MgBsvWPBTr"
      },
      "cell_type": "markdown",
      "source": [
        "## 6. Analysing the Differences between the Versions\n",
        "#### Case 1: For ONE DAY retention\n",
        "<p>There is a slight decrease in ONE DAY retention when the gate is moved to level 10 (44.2%) compared to the control when it was at level 5 (44.8%). It's a small change, but even small changes in retention can have a large impact.</p>\n",
        "<p>There are a couple of ways to get at the certainty of these retention numbers. Using bootstrapping the dataset can be repeatedly re-sampled (with replacement). This is followed by ONE DAY retention calculation for those samples. The variation in ONE DAY retention ultimately gives an indication of how uncertain the retention numbers can be.</p>"
      ]
    },
    {
      "metadata": {
        "dc": {
          "key": "38"
        },
        "tags": [
          "sample_code"
        ],
        "trusted": true,
        "colab": {
          "base_uri": "https://localhost:8080/",
          "height": 299
        },
        "id": "LPFcd5FgPBTr",
        "outputId": "251890c9-aadd-45b8-b639-39ff4c8165d0"
      },
      "cell_type": "code",
      "source": [
        "boot_1d = []\n",
        "for i in range(500):\n",
        "    boot_mean = df.sample(frac=1, replace=True).groupby('version')['retention_1'].mean()\n",
        "    boot_1d.append(boot_mean)\n",
        "\n",
        "boot_1d = pd.DataFrame(boot_1d)\n",
        "boot_1d.plot(kind='kde', title='ONE DAY')"
      ],
      "execution_count": 49,
      "outputs": [
        {
          "output_type": "execute_result",
          "data": {
            "text/plain": [
              "<matplotlib.axes._subplots.AxesSubplot at 0x7f3737ad3090>"
            ]
          },
          "metadata": {},
          "execution_count": 49
        },
        {
          "output_type": "display_data",
          "data": {
            "text/plain": [
              "<Figure size 432x288 with 1 Axes>"
            ],
            "image/png": "[encoded data removed]"
          },
          "metadata": {
            "needs_background": "light"
          }
        }
      ]
    },
    {
      "cell_type": "markdown",
      "source": [
        "#### Case 2: For SEVEN DAY retention\n",
        "<p>There is a slight decrease in SEVEN DAY retention when the gate is moved to level 10 (18.20%) compared to the control when it was at level 5 (19.02%). It's a small change again.</p>\n",
        "<p>Using bootstrapping followed by SEVEN DAY retention calculation for those samples, we get:</p>"
      ],
      "metadata": {
        "id": "_VVIg9fMjigM"
      }
    },
    {
      "cell_type": "code",
      "source": [
        "boot_7d = []\n",
        "for i in range(500):\n",
        "    boot_mean = df.sample(frac=1, replace=True).groupby('version')['retention_7'].mean()\n",
        "    boot_7d.append(boot_mean)\n",
        "\n",
        "boot_7d = pd.DataFrame(boot_7d)\n",
        "boot_7d.plot(kind='kde', title='SEVEN DAY')"
      ],
      "metadata": {
        "colab": {
          "base_uri": "https://localhost:8080/",
          "height": 299
        },
        "id": "kmrfRCbnjhOA",
        "outputId": "2ee00093-2138-49a6-a26b-80dd2fea936c"
      },
      "execution_count": 50,
      "outputs": [
        {
          "output_type": "execute_result",
          "data": {
            "text/plain": [
              "<matplotlib.axes._subplots.AxesSubplot at 0x7f3737aa87d0>"
            ]
          },
          "metadata": {},
          "execution_count": 50
        },
        {
          "output_type": "display_data",
          "data": {
            "text/plain": [
              "<Figure size 432x288 with 1 Axes>"
            ],
            "image/png": "[encoded data removed]"
          },
          "metadata": {
            "needs_background": "light"
          }
        }
      ]
    },
    {
      "metadata": {
        "dc": {
          "key": "46"
        },
        "deletable": false,
        "editable": false,
        "run_control": {
          "frozen": true
        },
        "tags": [
          "context"
        ],
        "id": "hNr250V5PBTr"
      },
      "cell_type": "markdown",
      "source": [
        "## 7. Plotting Bootstrap Differences\n",
        "<p>On zooming into the differece between retention distribution of two versions (Gate 10 and Gate 5), and plotting these for ONE DAY and SEVEN DAY retentions, we have:</p>"
      ]
    },
    {
      "metadata": {
        "dc": {
          "key": "46"
        },
        "tags": [
          "sample_code"
        ],
        "trusted": true,
        "id": "rY9zv0pgPBTs"
      },
      "cell_type": "code",
      "source": [
        "boot_1d['diff'] = (boot_1d['gate_5'] - boot_1d['gate_10']) /  boot_1d['gate_10'] * 100\n",
        "boot_7d['diff'] = (boot_7d['gate_5'] - boot_7d['gate_10']) /  boot_7d['gate_10'] * 100"
      ],
      "execution_count": 55,
      "outputs": []
    },
    {
      "cell_type": "code",
      "source": [
        "import matplotlib.pyplot as plt\n",
        "\n",
        "fig, (ax1) = plt.subplots(1, 1,figsize=(6,5))\n",
        "\n",
        "boot_1d['diff'].plot.kde(ax=ax1, c=\"red\", label = \"1 day retention\")\n",
        "boot_7d['diff'].plot.kde(ax=ax1, c= \"blue\", label = \"7 days retention\")\n",
        "ax1.set_xlabel(\"% difference\",size=12)\n",
        "ax1.set_ylabel(\"% density\",size=12)\n",
        "ax1.set_title(\"Difference in retention \\n between the two A/B groups\", fontweight=\"bold\", size=14)\n",
        "plt.legend()\n",
        "plt.show()"
      ],
      "metadata": {
        "colab": {
          "base_uri": "https://localhost:8080/",
          "height": 370
        },
        "id": "BG1sPz8qlzEZ",
        "outputId": "0a4ab092-69c4-45f2-b261-f35842f401a1"
      },
      "execution_count": 64,
      "outputs": [
        {
          "output_type": "display_data",
          "data": {
            "text/plain": [
              "<Figure size 432x360 with 1 Axes>"
            ],
            "image/png": "[encoded data removed]"
          },
          "metadata": {
            "needs_background": "light"
          }
        }
      ]
    },
    {
      "metadata": {
        "dc": {
          "key": "53"
        },
        "deletable": false,
        "editable": false,
        "run_control": {
          "frozen": true
        },
        "tags": [
          "context"
        ],
        "id": "GeuemS3DPBTs"
      },
      "cell_type": "markdown",
      "source": [
        "## 8. Probabilities\n",
        "<p>Calculating the probability that ONE DAY retention is greater when the gate is at level 30, we get :</p>"
      ]
    },
    {
      "metadata": {
        "dc": {
          "key": "53"
        },
        "tags": [
          "sample_code"
        ],
        "trusted": true,
        "colab": {
          "base_uri": "https://localhost:8080/"
        },
        "id": "aDM32TpyPBTs",
        "outputId": "4f06458e-2539-47ab-9872-d27104df429b"
      },
      "cell_type": "code",
      "source": [
        "prob_1 = (boot_1d['diff']>0).sum()/len(boot_1d['diff'])\n",
        "print(prob_1*100,'%')"
      ],
      "execution_count": 67,
      "outputs": [
        {
          "output_type": "stream",
          "name": "stdout",
          "text": [
            "95.19999999999999 %\n"
          ]
        }
      ]
    },
    {
      "cell_type": "markdown",
      "source": [
        "<p>Calculating the probability that ONE DAY retention is greater when the gate is at level 30, we get :</p>"
      ],
      "metadata": {
        "id": "IKbWyMsgoQyE"
      }
    },
    {
      "cell_type": "code",
      "source": [
        "prob_7 = (boot_7d['diff']>0).sum()/len(boot_7d['diff'])\n",
        "print(prob_7*100,'%')"
      ],
      "metadata": {
        "colab": {
          "base_uri": "https://localhost:8080/"
        },
        "id": "SU7oi7rWoYxw",
        "outputId": "27d905df-a3f8-402b-a234-edd44a4a5f65"
      },
      "execution_count": 68,
      "outputs": [
        {
          "output_type": "stream",
          "name": "stdout",
          "text": [
            "99.8 %\n"
          ]
        }
      ]
    },
    {
      "metadata": {
        "dc": {
          "key": "74"
        },
        "deletable": false,
        "editable": false,
        "run_control": {
          "frozen": true
        },
        "tags": [
          "context"
        ],
        "id": "vykE9m9OPBTu"
      },
      "cell_type": "markdown",
      "source": [
        "## 9.  The Conclusion\n",
        "<p>The bootstrap results tell us that there is 95.2% chance that <em>ONE DAY</em> retention is higher when the gate is at level 5 than when it is at level 10.\n",
        "\n",
        "Similarly, there is a strong probability of 99.8% that 7-day retention is higher when the gate is at level 5 than when it is at level 10.</p>\n",
        "\n",
        "<p>Therfore, if we want the  retention to be high for both <em>ONE DAY</em> and <em>SEVEN DAY</em> — we should not move the gate from level 5 to level 10. \n",
        "\n",
        "FYI - Apart from Retention, the other metrics that can be considered are:\n",
        "<ul><li>Number of game rounds played</li> <li> Number of in-game purchases made by the two AB-groups</li></ul>"
      ]
    }
  ],
  "metadata": {
    "kernelspec": {
      "name": "python3",
      "display_name": "Python 3",
      "language": "python"
    },
    "language_info": {
      "name": "python",
      "version": "3.6.7",
      "mimetype": "text/x-python",
      "codemirror_mode": {
        "name": "ipython",
        "version": 3
      },
      "pygments_lexer": "ipython3",
      "nbconvert_exporter": "python",
      "file_extension": ".py"
    },
    "colab": {
      "name": "notebook.ipynb",
      "provenance": [],
      "collapsed_sections": []
    }
  },
  "nbformat": 4,
  "nbformat_minor": 0
}